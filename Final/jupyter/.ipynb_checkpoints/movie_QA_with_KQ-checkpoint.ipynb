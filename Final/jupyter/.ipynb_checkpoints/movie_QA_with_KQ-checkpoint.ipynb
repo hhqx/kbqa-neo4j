{
 "cells": [
  {
   "cell_type": "code",
   "execution_count": null,
   "metadata": {
    "collapsed": true
   },
   "outputs": [],
   "source": [
    "# Clone repo\n",
    "!git clone https://github.com//HLNN/NLP.git\n",
    "!mv NLP/Final/* ."
   ]
  },
  {
   "cell_type": "code",
   "execution_count": null,
   "metadata": {},
   "outputs": [],
   "source": [
    "#Download and start neo4j\n",
    "!wget https://neo4j.com/artifact.php?name=neo4j-community-3.5.8-unix.tar.gz -O neo4j.tar.gz\n",
    "!mkdir neo4j\n",
    "!tar -xf neo4j.tar.gz\n",
    "!mv neo4j-community-3.5.8/* neo4j\n",
    "!sed -i '/#dbms.security.auth_enabled/s/^#//g' neo4j/conf/neo4j.conf\n",
    "\n",
    "!neo4j/bin/neo4j start"
   ]
  },
  {
   "cell_type": "code",
   "execution_count": null,
   "metadata": {},
   "outputs": [],
   "source": [
    "# Install requirement\n",
    "!pip install -r requirements.txt"
   ]
  },
  {
   "cell_type": "code",
   "execution_count": null,
   "metadata": {},
   "outputs": [],
   "source": []
  },
  {
   "cell_type": "code",
   "execution_count": 2,
   "metadata": {},
   "outputs": [
    {
     "name": "stdout",
     "output_type": "stream",
     "text": [
      "Package              Version\r\n",
      "-------------------- ---------\r\n",
      "argon2-cffi          21.3.0\r\n",
      "argon2-cffi-bindings 21.2.0\r\n",
      "asn1crypto           0.24.0\r\n",
      "async-generator      1.10\r\n",
      "attrs                21.4.0\r\n",
      "backcall             0.2.0\r\n",
      "bleach               4.1.0\r\n",
      "certifi              2021.10.8\r\n",
      "cffi                 1.15.0\r\n",
      "Click                7.0\r\n",
      "colorama             0.4.4\r\n",
      "cryptography         2.1.4\r\n",
      "dataclasses          0.8\r\n",
      "decorator            5.1.1\r\n",
      "defusedxml           0.7.1\r\n",
      "entrypoints          0.4\r\n",
      "idna                 2.6\r\n",
      "importlib-metadata   4.8.3\r\n",
      "ipykernel            5.5.6\r\n",
      "ipython              7.16.3\r\n",
      "ipython-genutils     0.2.0\r\n",
      "ipywidgets           7.7.0\r\n",
      "jedi                 0.17.2\r\n",
      "jieba                0.42.1\r\n",
      "Jinja2               3.0.3\r\n",
      "joblib               1.1.0\r\n",
      "jsonschema           4.0.0\r\n",
      "jupyter              1.0.0\r\n",
      "jupyter-client       7.1.2\r\n",
      "jupyter-console      6.4.3\r\n",
      "jupyter-core         4.9.2\r\n",
      "jupyterlab-pygments  0.1.2\r\n",
      "jupyterlab-widgets   1.1.0\r\n",
      "keyring              10.6.0\r\n",
      "keyrings.alt         3.0\r\n",
      "MarkupSafe           2.0.1\r\n",
      "mistune              0.8.4\r\n",
      "nbclient             0.5.9\r\n",
      "nbconvert            6.0.7\r\n",
      "nbformat             5.1.3\r\n",
      "neobolt              1.7.17\r\n",
      "neotime              1.7.4\r\n",
      "nest-asyncio         1.5.5\r\n",
      "notebook             6.4.10\r\n",
      "numpy                1.19.5\r\n",
      "packaging            21.3\r\n",
      "pandocfilters        1.5.0\r\n",
      "parso                0.7.1\r\n",
      "pexpect              4.8.0\r\n",
      "pickleshare          0.7.5\r\n",
      "pip                  21.3.1\r\n",
      "prometheus-client    0.14.1\r\n",
      "prompt-toolkit       2.0.10\r\n",
      "ptyprocess           0.7.0\r\n",
      "py2neo               4.3.0\r\n",
      "pycparser            2.21\r\n",
      "pycrypto             2.6.1\r\n",
      "Pygments             2.12.0\r\n",
      "PyGObject            3.26.1\r\n",
      "pyparsing            3.0.8\r\n",
      "pyrsistent           0.18.0\r\n",
      "python-dateutil      2.8.2\r\n",
      "pytz                 2022.1\r\n",
      "pyxdg                0.25\r\n",
      "pyzmq                22.3.0\r\n",
      "qtconsole            5.2.2\r\n",
      "QtPy                 2.0.1\r\n",
      "scikit-learn         0.24.2\r\n",
      "scipy                1.5.4\r\n",
      "SecretStorage        2.3.1\r\n",
      "Send2Trash           1.8.0\r\n",
      "setuptools           39.0.1\r\n",
      "six                  1.11.0\r\n",
      "sklearn              0.0\r\n",
      "terminado            0.13.0\r\n",
      "testpath             0.6.0\r\n",
      "threadpoolctl        3.1.0\r\n",
      "tornado              6.1\r\n",
      "traitlets            4.3.3\r\n",
      "typing_extensions    4.1.1\r\n",
      "urllib3              1.24.3\r\n",
      "wcwidth              0.2.5\r\n",
      "webencodings         0.5.1\r\n",
      "wheel                0.30.0\r\n",
      "widgetsnbextension   3.6.0\r\n",
      "zipp                 3.6.0\r\n"
     ]
    }
   ],
   "source": [
    "! pip list"
   ]
  },
  {
   "cell_type": "code",
   "execution_count": 2,
   "metadata": {},
   "outputs": [],
   "source": [
    "# There may be a short delay until the Neo4j is ready.\n",
    "# Try again after few second if fault.\n",
    "from src import csv2neo4j preprocess_data\n",
    "import csv2neo4j"
   ]
  },
  {
   "cell_type": "code",
   "execution_count": 3,
   "metadata": {},
   "outputs": [
    {
     "ename": "ModuleNotFoundError",
     "evalue": "No module named 'preprocess_data'",
     "output_type": "error",
     "traceback": [
      "\u001b[0;31m---------------------------------------------------------------------------\u001b[0m",
      "\u001b[0;31mModuleNotFoundError\u001b[0m                       Traceback (most recent call last)",
      "\u001b[0;32m<ipython-input-3-cbdedf4f891f>\u001b[0m in \u001b[0;36m<module>\u001b[0;34m\u001b[0m\n\u001b[0;32m----> 1\u001b[0;31m \u001b[0;32mfrom\u001b[0m \u001b[0mpreprocess_data\u001b[0m \u001b[0;32mimport\u001b[0m \u001b[0mQuestion\u001b[0m\u001b[0;34m\u001b[0m\u001b[0;34m\u001b[0m\u001b[0m\n\u001b[0m\u001b[1;32m      2\u001b[0m \u001b[0;34m\u001b[0m\u001b[0m\n\u001b[1;32m      3\u001b[0m \u001b[0mquestion\u001b[0m \u001b[0;34m=\u001b[0m \u001b[0mQuestion\u001b[0m\u001b[0;34m(\u001b[0m\u001b[0;34m)\u001b[0m\u001b[0;34m\u001b[0m\u001b[0;34m\u001b[0m\u001b[0m\n",
      "\u001b[0;31mModuleNotFoundError\u001b[0m: No module named 'preprocess_data'"
     ]
    }
   ],
   "source": [
    "from preprocess_data import Question\n",
    "\n",
    "question = Question()"
   ]
  },
  {
   "cell_type": "code",
   "execution_count": null,
   "metadata": {},
   "outputs": [],
   "source": [
    "def question_process_format(q):\n",
    "    print('Question: ', q)\n",
    "    print('*' * 40)\n",
    "    print('Processing detail...')\n",
    "    a = question.question_process(q)\n",
    "    print('*' * 40)\n",
    "    print('Answer: ', a)\n"
   ]
  },
  {
   "cell_type": "code",
   "execution_count": null,
   "metadata": {},
   "outputs": [],
   "source": [
    "question_process_format('卧虎藏龙的评分是多少？')"
   ]
  },
  {
   "cell_type": "code",
   "execution_count": null,
   "metadata": {},
   "outputs": [],
   "source": [
    "question_process_format('无间道是什么类型的电影？')"
   ]
  },
  {
   "cell_type": "code",
   "execution_count": null,
   "metadata": {},
   "outputs": [],
   "source": [
    "question_process_format('英雄主要讲了什么故事？')"
   ]
  },
  {
   "cell_type": "code",
   "execution_count": null,
   "metadata": {},
   "outputs": [],
   "source": [
    "question_process_format('霸王别姬是哪些人演的？')"
   ]
  },
  {
   "cell_type": "code",
   "execution_count": null,
   "metadata": {},
   "outputs": [],
   "source": [
    "question_process_format('介绍一下张国荣？')"
   ]
  },
  {
   "cell_type": "code",
   "execution_count": null,
   "metadata": {},
   "outputs": [],
   "source": [
    "question_process_format('成龙演过多少部电影？')"
   ]
  },
  {
   "cell_type": "code",
   "execution_count": null,
   "metadata": {},
   "outputs": [],
   "source": [
    "question_process_format('成龙和李连杰合作的电影有哪些？')"
   ]
  },
  {
   "cell_type": "code",
   "execution_count": null,
   "metadata": {},
   "outputs": [],
   "source": [
    "# Try YOUR question now\n",
    "while True:\n",
    "    question_process_format(input())\n",
    "    print()\n"
   ]
  }
 ],
 "metadata": {
  "kernelspec": {
   "display_name": "Python 3",
   "language": "python",
   "name": "python3"
  },
  "language_info": {
   "codemirror_mode": {
    "name": "ipython",
    "version": 3
   },
   "file_extension": ".py",
   "mimetype": "text/x-python",
   "name": "python",
   "nbconvert_exporter": "python",
   "pygments_lexer": "ipython3",
   "version": "3.6.9"
  }
 },
 "nbformat": 4,
 "nbformat_minor": 1
}
