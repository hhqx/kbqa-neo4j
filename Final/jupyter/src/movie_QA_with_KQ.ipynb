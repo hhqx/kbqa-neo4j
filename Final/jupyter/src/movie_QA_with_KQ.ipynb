{
 "cells": [
  {
   "cell_type": "code",
   "execution_count": null,
   "metadata": {},
   "outputs": [],
   "source": []
  },
  {
   "cell_type": "code",
   "execution_count": 1,
   "metadata": {},
   "outputs": [
    {
     "name": "stdout",
     "output_type": "stream",
     "text": [
      "No broken requirements found.\r\n"
     ]
    }
   ],
   "source": [
    "! pip check"
   ]
  },
  {
   "cell_type": "code",
   "execution_count": 2,
   "metadata": {},
   "outputs": [
    {
     "name": "stdout",
     "output_type": "stream",
     "text": [
      "Connect to database...\n",
      "Clean database...\n",
      "Load gener...\n",
      "Load person...\n",
      "Load movie...\n",
      "Load person_to_movie...\n",
      "Part1...\n",
      "Part2..\n",
      "Part3..\n",
      "Load movie_to_gener...\n",
      "Load finished!\n"
     ]
    }
   ],
   "source": [
    "# 导入csv数据到neo4j数据库\n",
    "! python3.6 -u csv2neo4j.py\n"
   ]
  },
  {
   "cell_type": "code",
   "execution_count": 3,
   "metadata": {},
   "outputs": [
    {
     "name": "stderr",
     "output_type": "stream",
     "text": [
      "Building prefix dict from the default dictionary ...\n",
      "Loading model from cache /tmp/jieba.cache\n",
      "Loading model cost 0.384 seconds.\n",
      "Prefix dict has been built successfully.\n"
     ]
    }
   ],
   "source": [
    "from preprocess_data import Question\n",
    "\n",
    "question = Question()"
   ]
  },
  {
   "cell_type": "code",
   "execution_count": 4,
   "metadata": {},
   "outputs": [],
   "source": [
    "def question_process_format(q):\n",
    "    print('Question: ', q)\n",
    "    print('*' * 40)\n",
    "    print('Processing detail...')\n",
    "    a = question.question_process(q)\n",
    "    print('*' * 40)\n",
    "    print('Answer: ', a)\n"
   ]
  },
  {
   "cell_type": "code",
   "execution_count": 5,
   "metadata": {},
   "outputs": [
    {
     "name": "stdout",
     "output_type": "stream",
     "text": [
      "Question:  卧虎藏龙的评分是多少？\n",
      "****************************************\n",
      "Processing detail...\n",
      "['卧虎藏龙/nm', '的/uj', '评分/n', '是/v', '多少/m']\n",
      "抽象问题为： nm的评分是多少\n",
      "使用模板编号： 0\n",
      "问题模板： nm 评分\n",
      "match (m:Movie) where m.title='卧虎藏龙' return m.rating\n",
      "7.2\n",
      "****************************************\n",
      "Answer:  卧虎藏龙电影评分为7.2分！\n"
     ]
    }
   ],
   "source": [
    "question_process_format('卧虎藏龙的评分是多少？')"
   ]
  },
  {
   "cell_type": "code",
   "execution_count": 6,
   "metadata": {},
   "outputs": [
    {
     "name": "stdout",
     "output_type": "stream",
     "text": [
      "Question:  无间道是什么类型的电影？\n",
      "****************************************\n",
      "Processing detail...\n",
      "['无间道/nm', '是/v', '什么/r', '类型/n', '的/uj', '电影/n']\n",
      "抽象问题为： nm是什么类型的电影\n",
      "使用模板编号： 2\n",
      "问题模板： nm 类型\n",
      "match(m:Movie)-[r:is]->(b) where m.title='无间道' return b.name\n",
      "****************************************\n",
      "Answer:  无间道是剧情、悬疑、动作、惊悚、犯罪等类型的电影！\n"
     ]
    }
   ],
   "source": [
    "question_process_format('无间道是什么类型的电影？')"
   ]
  },
  {
   "cell_type": "code",
   "execution_count": 7,
   "metadata": {},
   "outputs": [
    {
     "name": "stdout",
     "output_type": "stream",
     "text": [
      "Question:  英雄主要讲了什么故事？\n",
      "****************************************\n",
      "Processing detail...\n",
      "['英雄/nm', '主要/b', '讲/v', '了/ul', '什么/r', '故事/n']\n",
      "抽象问题为： nm主要讲了什么故事\n",
      "使用模板编号： 3\n",
      "问题模板： nm 简介\n",
      "match(m:Movie) where m.title='英雄' return m.introduction\n",
      "****************************************\n",
      "Answer:  英雄主要讲述了战国末期，赵国有三个名震天下的侠客，他们是：“长空”、“残剑”、“飞雪”。因为他们，秦王十年里没睡过一个安稳觉。可是他们却被一个默默无闻，名叫无名的秦国剑客所杀。消息传来，秦王振奋，急召无名上殿相见。在秦王的大殿里，神秘的烛火燃烧着，秦王与无名只有十步的距离，无名将击杀长空、残剑、飞雪的故事娓娓道来：他利用三人之间爱恨交织的关系，瓦解了他们的力量，各个击破，因此取胜。可秦王机智过人，听出了无名故事中的破绽，说出了另一个故事的**：残剑等三人是主动求败，献出生命，用苦肉计帮助无名上殿，无名才是真正最危险的刺客，而无名告诉秦王：他看错了一个人，那就是残剑。于是真正的故事从头叙起……最后，无名拿起了剑，此时他离秦王只有十步，他的绝技是“十步一杀”。！\n"
     ]
    }
   ],
   "source": [
    "question_process_format('英雄主要讲了什么故事？')"
   ]
  },
  {
   "cell_type": "code",
   "execution_count": 8,
   "metadata": {},
   "outputs": [
    {
     "name": "stdout",
     "output_type": "stream",
     "text": [
      "Question:  霸王别姬是哪些人演的？\n",
      "****************************************\n",
      "Processing detail...\n",
      "['霸王别姬/nm', '是/v', '哪些/r', '人演/n', '的/uj']\n",
      "抽象问题为： nm是哪些人演的\n",
      "使用模板编号： 4\n",
      "问题模板： nm 演员列表\n",
      "match(n:Person)-[r:actedin]->(m:Movie) where m.title='霸王别姬' return case when n.pname is null then n.eng_name else n.pname end as result\n",
      "****************************************\n",
      "Answer:  霸王别姬由葛优、张国荣、巩俐等演员主演！\n"
     ]
    }
   ],
   "source": [
    "question_process_format('霸王别姬是哪些人演的？')"
   ]
  },
  {
   "cell_type": "code",
   "execution_count": 9,
   "metadata": {},
   "outputs": [
    {
     "name": "stdout",
     "output_type": "stream",
     "text": [
      "Question:  介绍一下张国荣？\n",
      "****************************************\n",
      "Processing detail...\n",
      "['介绍/v', '一下/m', '张国荣/nnt']\n",
      "抽象问题为： 介绍一下张国荣\n",
      "使用模板编号： 5\n",
      "问题模板： nnt 介绍\n",
      "match(n:Person) where n.pname='张国荣' or n.eng_name='张国荣' return n.biography\n",
      "****************************************\n",
      "Answer:  张国荣，籍贯广东梅县，生于香港，是一位在全球华人社会和亚洲地区有影响力的著名演员、歌手和音乐人，大中华地区乐坛和影坛巨星，演艺圈多面发展最成功的代表之一。他是1980年代华语乐坛的殿堂级歌手之一；1991年获香港电影金像奖最佳男主角；1994年凭《霸王别姬》获日本影评人协会最佳外语片男主角，并打破大陆文艺片在美国的票房纪录，成功晋身国际影坛；1999年获香港乐坛最高荣誉“金针奖”。他主演的电影名作有《胭脂扣》、《倩女幽魂》、《阿飞正传》、《霸王别姬》、《东邪西毒》、《春光乍泄》等。\n"
     ]
    }
   ],
   "source": [
    "question_process_format('介绍一下张国荣？')"
   ]
  },
  {
   "cell_type": "code",
   "execution_count": 10,
   "metadata": {},
   "outputs": [
    {
     "name": "stdout",
     "output_type": "stream",
     "text": [
      "Question:  成龙演过多少部电影？\n",
      "****************************************\n",
      "Processing detail...\n",
      "['成龙/nnt', '演过/v', '多少/m', '部/n', '电影/n']\n",
      "抽象问题为： 成龙演过多少部电影\n",
      "使用模板编号： 12\n",
      "问题模板： nnt 电影数量\n",
      "match(n:Person)-[]->(m:Movie) where n.pname='成龙' or n.eng_name='成龙' return m.title\n",
      "****************************************\n",
      "Answer:  成龙演过178部电影!\n"
     ]
    }
   ],
   "source": [
    "question_process_format('成龙演过多少部电影？')"
   ]
  },
  {
   "cell_type": "code",
   "execution_count": 11,
   "metadata": {},
   "outputs": [
    {
     "name": "stdout",
     "output_type": "stream",
     "text": [
      "Question:  成龙和李连杰合作的电影有哪些？\n",
      "****************************************\n",
      "Processing detail...\n",
      "['成龙/nnt', '和/c', '李连杰/nnt', '合作/vn', '的/uj', '电影/n', '有/v', '哪些/r']\n",
      "抽象问题为： 成龙和李连杰合作的电影有哪些\n",
      "使用模板编号： 11\n",
      "问题模板： nnt nnr 合作 电影列表\n",
      "match(n:Person)-[]->(m:Movie) where n.pname='成龙' or n.eng_name='成龙' return m.title\n",
      "match(n:Person)-[]->(m:Movie) where n.pname='李连杰' or n.eng_name='李连杰' return m.title\n",
      "['UltimateFightsfromtheMovies', 'ChopSocky:CinemaHongKong', '黄飞鸿之二男儿当自强', '建国大业', 'EasternHeroes:TheVideoMagazine-Volume2', 'TopFighter', 'TheForbiddenKingdom']\n",
      "****************************************\n",
      "Answer:  成龙和李连杰一起演过的电影主要是UltimateFightsfromtheMovies、ChopSocky:CinemaHongKong、黄飞鸿之二男儿当自强、建国大业、EasternHeroes:TheVideoMagazine-Volume2、TopFighter、TheForbiddenKingdom!\n"
     ]
    }
   ],
   "source": [
    "question_process_format('成龙和李连杰合作的电影有哪些？')"
   ]
  },
  {
   "cell_type": "code",
   "execution_count": null,
   "metadata": {},
   "outputs": [],
   "source": [
    "# Try YOUR question now\n",
    "while True:\n",
    "    question_process_format(input())\n",
    "    print()\n"
   ]
  }
 ],
 "metadata": {
  "kernelspec": {
   "display_name": "Python 3",
   "language": "python",
   "name": "python3"
  },
  "language_info": {
   "codemirror_mode": {
    "name": "ipython",
    "version": 3
   },
   "file_extension": ".py",
   "mimetype": "text/x-python",
   "name": "python",
   "nbconvert_exporter": "python",
   "pygments_lexer": "ipython3",
   "version": "3.6.9"
  }
 },
 "nbformat": 4,
 "nbformat_minor": 1
}
